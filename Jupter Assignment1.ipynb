{
 "cells": [
  {
   "cell_type": "markdown",
   "metadata": {},
   "source": [
    "### Trial Question:\n",
    "Write command to print \"Good morning\""
   ]
  },
  {
   "cell_type": "code",
   "execution_count": 1,
   "metadata": {},
   "outputs": [
    {
     "name": "stdout",
     "output_type": "stream",
     "text": [
      "Good morning\n"
     ]
    }
   ],
   "source": [
    "# Answer (write code below):\n",
    "print(\"Good morning\")"
   ]
  },
  {
   "cell_type": "markdown",
   "metadata": {},
   "source": [
    "### Question 1:\n",
    "Write one for loop to print out each character of the string my_str on a separate line."
   ]
  },
  {
   "cell_type": "code",
   "execution_count": 12,
   "metadata": {},
   "outputs": [],
   "source": [
    "my_str = \"Thakur College\""
   ]
  },
  {
   "cell_type": "code",
   "execution_count": 4,
   "metadata": {},
   "outputs": [
    {
     "name": "stdout",
     "output_type": "stream",
     "text": [
      "loop to print out each character of the string my_str on a separate line\n",
      "T\n",
      "h\n",
      "a\n",
      "k\n",
      "u\n",
      "r\n",
      " \n",
      "C\n",
      "o\n",
      "l\n",
      "l\n",
      "e\n",
      "g\n",
      "e\n"
     ]
    }
   ],
   "source": [
    "print(\"loop to print out each character of the string my_str on a separate line\")\n",
    "my_str = \"Thakur College\"\n",
    "for i in my_str:\n",
    "    print(i);\n",
    "    \n",
    "\n",
    "\n"
   ]
  },
  {
   "cell_type": "markdown",
   "metadata": {},
   "source": [
    "### Question 2:\n",
    "Write one for loop to print out each element of the list several_things. Then, write another for loop to print out the TYPE of each element of the list several_things. To complete this problem you should have written two different for loops, each of which iterates over the list several_things, but each of those 2 for loops should have a different result."
   ]
  },
  {
   "cell_type": "code",
   "execution_count": 14,
   "metadata": {},
   "outputs": [],
   "source": [
    "several_things = [\"hello\", 2, 4, 6.0, 7.5, 234352354, \"the end\", \"\", 99]"
   ]
  },
  {
   "cell_type": "code",
   "execution_count": 3,
   "metadata": {},
   "outputs": [
    {
     "name": "stdout",
     "output_type": "stream",
     "text": [
      "Printing each Element in several_list\n",
      "hello\n",
      "2\n",
      "4\n",
      "6.0\n",
      "7.5\n",
      "234352354\n",
      "the end\n",
      "\n",
      "99\n",
      "Printing TYPE of each element in several_list\n",
      "<class 'str'>\n",
      "<class 'int'>\n",
      "<class 'int'>\n",
      "<class 'float'>\n",
      "<class 'float'>\n",
      "<class 'int'>\n",
      "<class 'str'>\n",
      "<class 'str'>\n",
      "<class 'int'>\n"
     ]
    }
   ],
   "source": [
    "print(\"Printing each Element in several_list\");\n",
    "several_things = [\"hello\", 2, 4, 6.0, 7.5, 234352354, \"the end\", \"\", 99];\n",
    "for i in several_things:\n",
    "    print(i);\n",
    "\n",
    "print(\"Printing TYPE of each element in several_list\");\n",
    "several_things = [\"hello\", 2, 4, 6.0, 7.5, 234352354, \"the end\", \"\", 99];\n",
    "for i in several_things:\n",
    "    print(type(i));\n"
   ]
  },
  {
   "cell_type": "markdown",
   "metadata": {},
   "source": [
    "### Question 3:\n",
    "Write code that uses iteration to print out the length of each element of the list stored in str_list."
   ]
  },
  {
   "cell_type": "code",
   "execution_count": 16,
   "metadata": {},
   "outputs": [],
   "source": [
    "str_list = [\"hello\", \"\", \"goodbye\", \"wonderful\", \"I love Python\"]"
   ]
  },
  {
   "cell_type": "code",
   "execution_count": 5,
   "metadata": {},
   "outputs": [
    {
     "name": "stdout",
     "output_type": "stream",
     "text": [
      "Iteration to print out the length of each element of the list stored in str_list\n",
      "5\n",
      "0\n",
      "7\n",
      "9\n",
      "13\n"
     ]
    }
   ],
   "source": [
    "print(\"Iteration to print out the length of each element of the list stored in str_list\")\n",
    "str_list = [\"hello\", \"\", \"goodbye\", \"wonderful\", \"I love Python\"];\n",
    "for i in str_list:\n",
    "    print(len(i));"
   ]
  },
  {
   "cell_type": "markdown",
   "metadata": {},
   "source": [
    "### Question 4:\n",
    "Write code to count the number of characters in original_str using the accumulation pattern and assign the answer to a variable num_chars. Do NOT use the len function to solve the problem (if you use it while you are working on this problem, comment it out afterward!)"
   ]
  },
  {
   "cell_type": "code",
   "execution_count": 18,
   "metadata": {},
   "outputs": [],
   "source": [
    "original_str = \"The quick brown rhino jumped over the extremely lazy fox.\""
   ]
  },
  {
   "cell_type": "code",
   "execution_count": 7,
   "metadata": {},
   "outputs": [
    {
     "name": "stdout",
     "output_type": "stream",
     "text": [
      "Python Code to count the number of characters in original_str using the accumulation pattern\n",
      "Number of characters in original_str 57\n"
     ]
    }
   ],
   "source": [
    "print(\"Python Code to count the number of characters in original_str using the accumulation pattern\")\n",
    "original_str = \"The quick brown rhino jumped over the extremely lazy fox.\";\n",
    "count = 0;\n",
    "for w in original_str:\n",
    "    count = count + 1\n",
    "num_chars = count\n",
    "print(\"Number of characters in original_str\",num_chars);\n"
   ]
  },
  {
   "cell_type": "markdown",
   "metadata": {},
   "source": [
    "### Question 5:\n",
    "addition_str is a string with a list of numbers separated by the + sign. Write code that uses the accumulation pattern to take the sum of all of the numbers and assigns it to sum_val (an integer). (You should use the .split(\"+\") function to split by \"+\" and int() to cast to an integer)."
   ]
  },
  {
   "cell_type": "code",
   "execution_count": 20,
   "metadata": {},
   "outputs": [],
   "source": [
    "addition_str = \"2+5+10+20\""
   ]
  },
  {
   "cell_type": "code",
   "execution_count": 8,
   "metadata": {},
   "outputs": [
    {
     "name": "stdout",
     "output_type": "stream",
     "text": [
      "Python Code that uses the accumulation pattern to take the sum of all of the numbers and assigns it to sum_val (an integer)\n",
      "37\n"
     ]
    }
   ],
   "source": [
    "print(\"Python Code that uses the accumulation pattern to take the sum of all of the numbers and assigns it to sum_val (an integer)\")\n",
    "addition_str = \"2+5+10+20\"\n",
    "su = addition_str.split('+')\n",
    "\n",
    "sum_val = 0\n",
    "for i in su:\n",
    "    sum_val = sum_val + int(i)\n",
    "\n",
    "print(sum_val)"
   ]
  },
  {
   "cell_type": "markdown",
   "metadata": {},
   "source": [
    "### Question 6:\n",
    "week_temps_f is a string with a list of fahrenheit temperatures separated by the , sign. Write code that uses the accumulation pattern to compute the average (sum divided by number of items) and assigns it to avg_temp. Do not hard code your answer (i.e., make your code compute both the sum or the number of items in week_temps_f) (You should use the .split(\",\") function to split by \",\" and float() to cast to a float)."
   ]
  },
  {
   "cell_type": "code",
   "execution_count": 22,
   "metadata": {},
   "outputs": [],
   "source": [
    "week_temps_f = \"75.1,77.7,83.2,82.5,81.0,79.5,85.7\""
   ]
  },
  {
   "cell_type": "code",
   "execution_count": 10,
   "metadata": {},
   "outputs": [
    {
     "name": "stdout",
     "output_type": "stream",
     "text": [
      "80.67142857142858\n"
     ]
    }
   ],
   "source": [
    "week_temps_f = \"75.1,77.7,83.2,82.5,81.0,79.5,85.7\"\n",
    "\n",
    "avg_temp = 0.0\n",
    "\n",
    "for i in week_temps_f:\n",
    "    avg_temp = sum(map(float,week_temps_f.split(\",\"))) / 7\n",
    "    print(avg_temp)\n",
    "    break;"
   ]
  },
  {
   "cell_type": "markdown",
   "metadata": {},
   "source": [
    "### Question 7:\n",
    "Write code to create a list of numbers from 0 to 67 and assign that list to the variable nums. Do not hard code the list."
   ]
  },
  {
   "cell_type": "code",
   "execution_count": 15,
   "metadata": {},
   "outputs": [
    {
     "name": "stdout",
     "output_type": "stream",
     "text": [
      "Python Code to create a list of numbers from 0 to 67 and assign that list to the variable nums.\n",
      "[0, 1, 2, 3, 4, 5, 6, 7, 8, 9, 10, 11, 12, 13, 14, 15, 16, 17, 18, 19, 20, 21, 22, 23, 24, 25, 26, 27, 28, 29, 30, 31, 32, 33, 34, 35, 36, 37, 38, 39, 40, 41, 42, 43, 44, 45, 46, 47, 48, 49, 50, 51, 52, 53, 54, 55, 56, 57, 58, 59, 60, 61, 62, 63, 64, 65, 66, 67]\n"
     ]
    }
   ],
   "source": [
    "print(\"Python Code to create a list of numbers from 0 to 67 and assign that list to the variable nums.\")\n",
    "nums=[]\n",
    "i=0;\n",
    "while i < 68:\n",
    "    nums.append(i);\n",
    "    i=i+1;\n",
    "print(nums)"
   ]
  },
  {
   "cell_type": "markdown",
   "metadata": {},
   "source": [
    "### Question 8:\n",
    "Write code to create a list of word lengths for the words in original_str using the accumulation pattern and assign the answer to a variable num_words_list. (You should use the len function)."
   ]
  },
  {
   "cell_type": "code",
   "execution_count": 25,
   "metadata": {},
   "outputs": [],
   "source": [
    "original_str = \"The quick brown rhino jumped over the extremely lazy fox\""
   ]
  },
  {
   "cell_type": "code",
   "execution_count": 19,
   "metadata": {},
   "outputs": [
    {
     "name": "stdout",
     "output_type": "stream",
     "text": [
      "Python Code to create a list of word lengths for the words in original_str using the accumulation pattern and assign the answer to a variable num_words_list\n",
      "[3, 5, 5, 5, 6, 4, 3, 9, 4, 3]\n"
     ]
    }
   ],
   "source": [
    "print(\"Python Code to create a list of word lengths for the words in original_str using the accumulation pattern and assign the answer to a variable num_words_list\")\n",
    "original_str = \"The quick brown rhino jumped over the extremely lazy fox\".split()\n",
    "original_list = (original_str)\n",
    "num_words = len(original_list)\n",
    "num_words_list = []\n",
    "for i in original_list:\n",
    "    num_words_list.append((len(i)))\n",
    "\n",
    "print(num_words_list)"
   ]
  },
  {
   "cell_type": "markdown",
   "metadata": {},
   "source": [
    "### Question 9:\n",
    "Create an empty string and assign it to the variable lett. Then using range, write code such that when your code is run, lett has 7 b’s (\"bbbbbbb\")."
   ]
  },
  {
   "cell_type": "code",
   "execution_count": 20,
   "metadata": {},
   "outputs": [
    {
     "name": "stdout",
     "output_type": "stream",
     "text": [
      "bbbbbbbbbbbbbbbbbbbbbbbbbbbb"
     ]
    }
   ],
   "source": [
    "lett=\"\"\n",
    "for i in range(7):\n",
    "    lett += 'b'\n",
    "    print(lett, end='')"
   ]
  },
  {
   "cell_type": "code",
   "execution_count": 21,
   "metadata": {},
   "outputs": [
    {
     "name": "stdout",
     "output_type": "stream",
     "text": [
      "\n",
      "bbbbbbb\n"
     ]
    }
   ],
   "source": [
    "print(\"\")\n",
    "lett = ''\n",
    "for i in range(7):\n",
    "    lett += 'b'\n",
    "print(lett)"
   ]
  },
  {
   "cell_type": "code",
   "execution_count": null,
   "metadata": {},
   "outputs": [],
   "source": []
  }
 ],
 "metadata": {
  "kernelspec": {
   "display_name": "Python 3",
   "language": "python",
   "name": "python3"
  },
  "language_info": {
   "codemirror_mode": {
    "name": "ipython",
    "version": 3
   },
   "file_extension": ".py",
   "mimetype": "text/x-python",
   "name": "python",
   "nbconvert_exporter": "python",
   "pygments_lexer": "ipython3",
   "version": "3.7.6"
  }
 },
 "nbformat": 4,
 "nbformat_minor": 2
}
